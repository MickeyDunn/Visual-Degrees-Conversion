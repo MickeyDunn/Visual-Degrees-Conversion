{
 "metadata": {
  "name": "",
  "signature": "sha256:7f715d1cad0a3bd45786ddf2ffe3e98a6dda99eee519e5b5a88a9a200302f08a"
 },
 "nbformat": 3,
 "nbformat_minor": 0,
 "worksheets": [
  {
   "cells": [
    {
     "cell_type": "code",
     "collapsed": false,
     "input": [
      "from math import atan2, degrees\n",
      "\n",
      "h =  # Monitor height in cm\n",
      "d = 30 # Distance between monitor and participant in cm\n",
      "r =  # Vertical resolution of the monitor\n",
      "size_in_px = 100 # The stimulus size in pixels\n",
      "\n",
      "# Calculate the number of degrees that correspond to a single pixel. This will\n",
      "\n",
      "# generally be a very small value, something like 0.03.\n",
      "deg_per_px = degrees(atan2(.5*h, d)) / (.5*r)\n",
      "\n",
      "print '%s degrees correspond to a single pixel' % deg_per_px\n",
      "\n",
      "# Calculate the size of the stimulus in degrees\n",
      "\n",
      "size_in_deg = size_in_px * deg_per_px\n",
      "print 'The size of the stimulus is %s pixels and %s visual degrees' \\\n",
      "\t% (size_in_px, size_in_deg)\n"
     ],
     "language": "python",
     "metadata": {},
     "outputs": [
      {
       "output_type": "stream",
       "stream": "stdout",
       "text": [
        "0.0306465857605 degrees correspond to a single pixel\n",
        "The size of the stimulus is 100 pixels and 3.06465857605 visual degrees\n"
       ]
      }
     ],
     "prompt_number": 1
    },
    {
     "cell_type": "code",
     "collapsed": false,
     "input": [
      "from math import atan2, degrees\n",
      "h = 25 # Monitor height in cm\n",
      "d = 60 # Distance between monitor and participant in cm\n",
      "r = 768 # Vertical resolution of the monitor\n",
      "size_in_deg = 3. # The stimulus size in pixels\n",
      "# Calculate the number of degrees that correspond to a single pixel. This will\n",
      "# generally be a very small value, something like 0.03.\n",
      "deg_per_px = degrees(atan2(.5*h, d)) / (.5*r)\n",
      "print '%s degrees correspond to a single pixel' % deg_per_px\n",
      "# Calculate the size of the stimulus in degrees\n",
      "size_in_px = size_in_deg / deg_per_px\n",
      "print 'The size of the stimulus is %s pixels and %s visual degrees' \\\n",
      "\t% (size_in_px, size_in_deg)\n",
      "\n"
     ],
     "language": "python",
     "metadata": {},
     "outputs": [
      {
       "output_type": "stream",
       "stream": "stdout",
       "text": [
        "0.0306465857605 degrees correspond to a single pixel\n",
        "The size of the stimulus is 97.8901866409 pixels and 3.0 visual degrees\n"
       ]
      }
     ],
     "prompt_number": 2
    },
    {
     "cell_type": "code",
     "collapsed": false,
     "input": [],
     "language": "python",
     "metadata": {},
     "outputs": []
    }
   ],
   "metadata": {}
  }
 ]
}